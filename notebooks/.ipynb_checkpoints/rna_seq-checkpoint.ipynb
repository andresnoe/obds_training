{
 "cells": [
  {
   "cell_type": "markdown",
   "metadata": {},
   "source": [
    "• Load read count dataset from week 1\n",
    "• Rename columns and remove unwanted columns (Chr, Start, End, Strand, Length)\n",
    "• Filter out genes with no counts\n",
    "• Plot scatter plot of correlation of replicates (pairs plot) (you will need to google how to show plots in jupyter notebook)\n",
    "• Tidy data\n",
    "• Plot histogram and density plot of read counts across all samples\n",
    "• Plot a violin plot of read counts per sample\n",
    "• Identify gene with highest expression in each sample\n",
    "• Normalise read counts to total reads per sample total reads & convert to 'counts per million (CPM)'\n",
    "• Log transform normalised read counts\n",
    "• Create new dataframe of 100 genes with highest average variance in log cpm across conditions\n",
    "• Plot the of expression of the top 5 most variable genes (log cpm) across all samples (line plot)\n",
    "• Plot a heatmap for top 100 most variable genes (log cpm) across all samples"
   ]
  },
  {
   "cell_type": "code",
   "execution_count": 1,
   "metadata": {},
   "outputs": [],
   "source": [
    "import pandas as pd\n",
    "import numpy as np"
   ]
  },
  {
   "cell_type": "code",
   "execution_count": null,
   "metadata": {},
   "outputs": [],
   "source": [
    "# Load read count dataset from week 1\n",
    "df=pd.read_csv('/ifs/obds-training/sep20/andres/data_science/readcount.tsv', sep='\\t', header=0, comment='#')\n",
    "print(df)"
   ]
  },
  {
   "cell_type": "code",
   "execution_count": 3,
   "metadata": {},
   "outputs": [
    {
     "name": "stdout",
     "output_type": "stream",
     "text": [
      "/ifs/obds-training/sep20/andres/devel/obds_training/notebooks\n"
     ]
    }
   ],
   "source": [
    "! pwd"
   ]
  },
  {
   "cell_type": "code",
   "execution_count": null,
   "metadata": {},
   "outputs": [],
   "source": [
    "! pwd"
   ]
  },
  {
   "cell_type": "code",
   "execution_count": null,
   "metadata": {},
   "outputs": [],
   "source": []
  },
  {
   "cell_type": "code",
   "execution_count": null,
   "metadata": {},
   "outputs": [],
   "source": []
  },
  {
   "cell_type": "code",
   "execution_count": null,
   "metadata": {},
   "outputs": [],
   "source": []
  },
  {
   "cell_type": "code",
   "execution_count": null,
   "metadata": {},
   "outputs": [],
   "source": []
  },
  {
   "cell_type": "code",
   "execution_count": null,
   "metadata": {},
   "outputs": [],
   "source": []
  }
 ],
 "metadata": {
  "kernelspec": {
   "display_name": "Python 3",
   "language": "python",
   "name": "python3"
  },
  "language_info": {
   "codemirror_mode": {
    "name": "ipython",
    "version": 3
   },
   "file_extension": ".py",
   "mimetype": "text/x-python",
   "name": "python",
   "nbconvert_exporter": "python",
   "pygments_lexer": "ipython3",
   "version": "3.6.11"
  }
 },
 "nbformat": 4,
 "nbformat_minor": 4
}
