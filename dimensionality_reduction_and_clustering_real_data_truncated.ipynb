{
 "cells": [
  {
   "cell_type": "code",
   "execution_count": 4,
   "metadata": {
    "slideshow": {
     "slide_type": "slide"
    }
   },
   "outputs": [],
   "source": [
    "import numpy as np\n",
    "import matplotlib.pyplot as plt; plt.ion()\n",
    "\n",
    "from scipy.io import mmread\n",
    "from sklearn.decomposition import PCA\n",
    "from umap import UMAP\n",
    "from hdbscan import HDBSCAN"
   ]
  },
  {
   "cell_type": "markdown",
   "metadata": {
    "slideshow": {
     "slide_type": "slide"
    }
   },
   "source": [
    "A helper function to visualize the distribution of dataset values at the various stages of preprocessing:"
   ]
  },
  {
   "cell_type": "code",
   "execution_count": 5,
   "metadata": {
    "slideshow": {
     "slide_type": "fragment"
    }
   },
   "outputs": [],
   "source": [
    "def summarize(X):\n",
    "    print(\"Dimensions: \", X.shape)\n",
    "\n",
    "    # compute some simple metrics to get a feel for the distribution of values\n",
    "    print(\"Min    : \", np.min(X))\n",
    "    print(\"Mean   : \", np.mean(X))\n",
    "    print(\"Median : \", np.median(X))\n",
    "    print(\"99.9%  : \", np.percentile(X.ravel(), 99.9))\n",
    "    print(\"Max    : \", np.max(X))\n",
    "\n",
    "    # plot distribution\n",
    "    fig, ax = plt.subplots(1,1)\n",
    "    ax.hist(X.ravel(), bins=100)\n",
    "    ax.set_xlabel('Counts')\n",
    "    ax.set_ylabel('Frequency')\n",
    "    plt.show()"
   ]
  },
  {
   "cell_type": "markdown",
   "metadata": {
    "slideshow": {
     "slide_type": "slide"
    }
   },
   "source": [
    "# Load the data:"
   ]
  },
  {
   "cell_type": "code",
   "execution_count": 6,
   "metadata": {
    "slideshow": {
     "slide_type": "fragment"
    }
   },
   "outputs": [
    {
     "name": "stdout",
     "output_type": "stream",
     "text": [
      "Dimensions:  (9128, 27998)\n",
      "Min    :  0\n",
      "Mean   :  0.2623772026347944\n",
      "Median :  0.0\n",
      "99.9%  :  27.0\n",
      "Max    :  6916\n"
     ]
    },
    {
     "data": {
      "image/png": "[encoded data removed]",
      "text/plain": [
       "<Figure size 432x288 with 1 Axes>"
      ]
     },
     "metadata": {
      "needs_background": "light"
     },
     "output_type": "display_data"
    }
   ],
   "source": [
    "file_path = 'filtered_gene_bc_matrices/mm10/matrix.mtx'\n",
    "X = mmread(file_path)\n",
    "X = np.array(X.todense().transpose())\n",
    "summarize(X)"
   ]
  },
  {
   "cell_type": "markdown",
   "metadata": {
    "slideshow": {
     "slide_type": "slide"
    }
   },
   "source": [
    "# Preprocess the data (a.k.a quality control)"
   ]
  },
  {
   "cell_type": "markdown",
   "metadata": {},
   "source": [
    "## 1.1 Look at total counts"
   ]
  },
  {
   "cell_type": "code",
   "execution_count": 7,
   "metadata": {},
   "outputs": [
    {
     "name": "stdout",
     "output_type": "stream",
     "text": [
      "Dimensions:  (9128,)\n",
      "Min    :  2223\n",
      "Mean   :  7346.036919368975\n",
      "Median :  6360.5\n",
      "99.9%  :  37470.50300000044\n",
      "Max    :  58312\n"
     ]
    },
    {
     "data": {
      "image/png": "[encoded data removed]",
      "text/plain": [
       "<Figure size 432x288 with 1 Axes>"
      ]
     },
     "metadata": {
      "needs_background": "light"
     },
     "output_type": "display_data"
    }
   ],
   "source": [
    "total_reads_per_sample = X.sum(axis=1)\n",
    "summarize(total_reads_per_sample)"
   ]
  },
  {
   "cell_type": "code",
   "execution_count": 8,
   "metadata": {},
   "outputs": [
    {
     "data": {
      "text/plain": [
       "array([ True,  True,  True, ...,  True,  True,  True])"
      ]
     },
     "execution_count": 8,
     "metadata": {},
     "output_type": "execute_result"
    }
   ],
   "source": [
    "# Lower end has already been truncated (<2000), need to truncate upper end\n",
    "threshold = 20000\n",
    "below_threshold = total_reads_per_sample<threshold\n",
    "below_threshold"
   ]
  },
  {
   "cell_type": "code",
   "execution_count": 9,
   "metadata": {},
   "outputs": [
    {
     "name": "stdout",
     "output_type": "stream",
     "text": [
      "Dimensions:  (8965,)\n",
      "Min    :  2223\n",
      "Mean   :  7010.351031790296\n",
      "Median :  6296.0\n",
      "99.9%  :  19562.684000000037\n",
      "Max    :  19963\n"
     ]
    },
    {
     "data": {
      "image/png": "[encoded data removed]",
      "text/plain": [
       "<Figure size 432x288 with 1 Axes>"
      ]
     },
     "metadata": {
      "needs_background": "light"
     },
     "output_type": "display_data"
    }
   ],
   "source": [
    "truncated_reads_per_sample = X[below_threshold]\n",
    "total_reads_truncated=truncated_reads_per_sample.sum(axis=1)\n",
    "summarize(total_reads_truncated)"
   ]
  },
  {
   "cell_type": "markdown",
   "metadata": {},
   "source": [
    "## 1.2 Look at total genes per cell"
   ]
  },
  {
   "cell_type": "code",
   "execution_count": 10,
   "metadata": {},
   "outputs": [
    {
     "name": "stdout",
     "output_type": "stream",
     "text": [
      "Dimensions:  (8965, 27998)\n",
      "Min    :  0\n",
      "Mean   :  0.25038756453283434\n",
      "Median :  0.0\n",
      "99.9%  :  26.0\n",
      "Max    :  6710\n"
     ]
    },
    {
     "data": {
      "image/png": "[encoded data removed]",
      "text/plain": [
       "<Figure size 432x288 with 1 Axes>"
      ]
     },
     "metadata": {
      "needs_background": "light"
     },
     "output_type": "display_data"
    }
   ],
   "source": [
    "summarize(truncated_reads_per_sample)"
   ]
  },
  {
   "cell_type": "code",
   "execution_count": 11,
   "metadata": {},
   "outputs": [
    {
     "name": "stdout",
     "output_type": "stream",
     "text": [
      "Dimensions:  (1, 8965)\n",
      "Min    :  2223\n",
      "Mean   :  7010.351031790296\n",
      "Median :  6296.0\n",
      "99.9%  :  19562.684000000037\n",
      "Max    :  19963\n"
     ]
    },
    {
     "data": {
      "image/png": "[encoded data removed]",
      "text/plain": [
       "<Figure size 432x288 with 1 Axes>"
      ]
     },
     "metadata": {
      "needs_background": "light"
     },
     "output_type": "display_data"
    }
   ],
   "source": [
    "total_genes = total_reads_truncated[total_reads_truncated.sum()>0]\n",
    "total_genes\n",
    "summarize(total_genes)"
   ]
  },
  {
   "cell_type": "code",
   "execution_count": 12,
   "metadata": {},
   "outputs": [
    {
     "name": "stdout",
     "output_type": "stream",
     "text": [
      "Dimensions:  (8965,)\n",
      "Min    :  110\n",
      "Mean   :  2539.5939765755716\n",
      "Median :  2490.0\n",
      "99.9%  :  4979.036000000002\n",
      "Max    :  5308\n"
     ]
    },
    {
     "data": {
      "image/png": "[encoded data removed]",
      "text/plain": [
       "<Figure size 432x288 with 1 Axes>"
      ]
     },
     "metadata": {
      "needs_background": "light"
     },
     "output_type": "display_data"
    }
   ],
   "source": [
    "indicated_matrix = truncated_reads_per_sample > 0\n",
    "total_gene_expressed = indicated_matrix.sum(axis=1)\n",
    "summarize(total_gene_expressed)"
   ]
  },
  {
   "cell_type": "code",
   "execution_count": 20,
   "metadata": {},
   "outputs": [
    {
     "name": "stdout",
     "output_type": "stream",
     "text": [
      "Dimensions:  (8856, 27998)\n",
      "Min    :  0\n",
      "Mean   :  0.25088953314706375\n",
      "Median :  0.0\n",
      "99.9%  :  26.0\n",
      "Max    :  4665\n"
     ]
    },
    {
     "data": {
      "image/png": "[encoded data removed]",
      "text/plain": [
       "<Figure size 432x288 with 1 Axes>"
      ]
     },
     "metadata": {
      "needs_background": "light"
     },
     "output_type": "display_data"
    }
   ],
   "source": [
    "threshold_gene_expression = 1000\n",
    "index = total_gene_expressed > threshold_gene_expression\n",
    "samples_with_enough_genes = truncated_reads_per_sample[index]\n",
    "summarize(samples_with_enough_genes)"
   ]
  },
  {
   "cell_type": "code",
   "execution_count": 21,
   "metadata": {},
   "outputs": [
    {
     "name": "stdout",
     "output_type": "stream",
     "text": [
      "Dimensions:  (8856,)\n",
      "Min    :  1014\n",
      "Mean   :  2566.8285907859076\n",
      "Median :  2503.0\n",
      "99.9%  :  4979.145\n",
      "Max    :  5308\n"
     ]
    },
    {
     "data": {
      "image/png": "[encoded data removed]",
      "text/plain": [
       "<Figure size 432x288 with 1 Axes>"
      ]
     },
     "metadata": {
      "needs_background": "light"
     },
     "output_type": "display_data"
    }
   ],
   "source": [
    "indicator = samples_with_enough_genes > 0\n",
    "sum_samples_with_enough_genes = indicator.sum(axis=1)\n",
    "summarize(sum_samples_with_enough_genes)"
   ]
  },
  {
   "cell_type": "markdown",
   "metadata": {},
   "source": [
    "## 1.3 Gene QC"
   ]
  },
  {
   "cell_type": "code",
   "execution_count": 23,
   "metadata": {},
   "outputs": [
    {
     "ename": "IndexError",
     "evalue": "too many indices for array: array is 2-dimensional, but 3 were indexed",
     "output_type": "error",
     "traceback": [
      "\u001b[0;31m---------------------------------------------------------------------------\u001b[0m",
      "\u001b[0;31mIndexError\u001b[0m                                Traceback (most recent call last)",
      "\u001b[0;32m<ipython-input-23-e9ed22dc8fb5>\u001b[0m in \u001b[0;36m<module>\u001b[0;34m\u001b[0m\n\u001b[1;32m      1\u001b[0m \u001b[0mthreshold\u001b[0m \u001b[0;34m=\u001b[0m \u001b[0;36m0\u001b[0m\u001b[0;34m\u001b[0m\u001b[0;34m\u001b[0m\u001b[0m\n\u001b[1;32m      2\u001b[0m \u001b[0mgenes_to_keep\u001b[0m \u001b[0;34m=\u001b[0m \u001b[0msamples_with_enough_genes\u001b[0m \u001b[0;34m>\u001b[0m \u001b[0mthreshold\u001b[0m\u001b[0;34m\u001b[0m\u001b[0;34m\u001b[0m\u001b[0m\n\u001b[0;32m----> 3\u001b[0;31m \u001b[0mgenes_with_enough_samples\u001b[0m \u001b[0;34m=\u001b[0m \u001b[0msamples_with_enough_genes\u001b[0m\u001b[0;34m[\u001b[0m\u001b[0;34m:\u001b[0m\u001b[0;34m,\u001b[0m\u001b[0mgenes_to_keep\u001b[0m\u001b[0;34m]\u001b[0m\u001b[0;34m\u001b[0m\u001b[0;34m\u001b[0m\u001b[0m\n\u001b[0m",
      "\u001b[0;31mIndexError\u001b[0m: too many indices for array: array is 2-dimensional, but 3 were indexed"
     ]
    }
   ],
   "source": [
    "threshold = 0\n",
    "genes_to_keep = samples_with_enough_genes > threshold\n",
    "genes_with_enough_samples = samples_with_enough_genes[:,genes_to_keep]"
   ]
  },
  {
   "cell_type": "code",
   "execution_count": null,
   "metadata": {},
   "outputs": [],
   "source": [
    "indicator = genes_with_enough_samples > 0\n",
    "sum_genes_with_enough_samples = indicator.sum(axis=0)\n",
    "summarize(sum_genes_with_enough_samples)\n",
    "#Number of genes that are present in each cell"
   ]
  },
  {
   "cell_type": "code",
   "execution_count": null,
   "metadata": {},
   "outputs": [],
   "source": [
    "threshold = np.percentile(sum_genes_with_enough_samples,10)\n",
    "genes_to_keep = total_samples_with_genes > threshold\n",
    "genes_with_enough_samples = samples_with_enough_genes[:,genes_to_keep]\n",
    "\n",
    "indicator = genes_with_enough_samples > 0\n",
    "sum_genes_with_enough_samples = indicator.sum(axis=0)\n",
    "summarize(sum_genes_with_enough_samples)"
   ]
  },
  {
   "cell_type": "code",
   "execution_count": null,
   "metadata": {},
   "outputs": [],
   "source": []
  },
  {
   "cell_type": "markdown",
   "metadata": {},
   "source": [
    "# Dimensionality reduction using PCA"
   ]
  },
  {
   "cell_type": "code",
   "execution_count": null,
   "metadata": {},
   "outputs": [],
   "source": [
    "# We need to make a PCA object and fit the data to the PCA object\n",
    "\n",
    "# pca_instance = PCA()\n",
    "# pca_instance.fit(genes_with_enough_samples)"
   ]
  },
  {
   "cell_type": "code",
   "execution_count": null,
   "metadata": {},
   "outputs": [],
   "source": [
    "# Less samples than featuers - PCA only computes first 8000 dimensions\n",
    "\n",
    "D = genes_with_enough_samples.shape[1]\n",
    "fig, ax = plt.subplots(1,1)\n",
    "ax.plot(np.arange(1, 1000+1), pca_instance.explained_variance_ratio_[:1000])\n",
    "ax.set_xlabel('Total components')\n",
    "ax.set_ylabel('Variance explained / Total variance')\n",
    "ax.set_title('Scree plot')\n",
    "plt.show()\n",
    "\n",
    "\n",
    "pca_transformed = PCA(n_components=d, whiten=False).fit_transform(X)"
   ]
  },
  {
   "cell_type": "code",
   "execution_count": 16,
   "metadata": {},
   "outputs": [
    {
     "ename": "NameError",
     "evalue": "name 'genes_with_enough_samples' is not defined",
     "output_type": "error",
     "traceback": [
      "\u001b[0;31m---------------------------------------------------------------------------\u001b[0m",
      "\u001b[0;31mNameError\u001b[0m                                 Traceback (most recent call last)",
      "\u001b[0;32m<ipython-input-16-dc019b641fe8>\u001b[0m in \u001b[0;36m<module>\u001b[0;34m\u001b[0m\n\u001b[0;32m----> 1\u001b[0;31m \u001b[0mprint\u001b[0m\u001b[0;34m(\u001b[0m\u001b[0mgenes_with_enough_samples\u001b[0m\u001b[0;34m.\u001b[0m\u001b[0mshape\u001b[0m\u001b[0;34m)\u001b[0m\u001b[0;34m\u001b[0m\u001b[0;34m\u001b[0m\u001b[0m\n\u001b[0m",
      "\u001b[0;31mNameError\u001b[0m: name 'genes_with_enough_samples' is not defined"
     ]
    }
   ],
   "source": [
    "print(genes_with_enough_samples.shape)"
   ]
  },
  {
   "cell_type": "code",
   "execution_count": null,
   "metadata": {},
   "outputs": [],
   "source": []
  },
  {
   "cell_type": "code",
   "execution_count": null,
   "metadata": {},
   "outputs": [],
   "source": []
  },
  {
   "cell_type": "markdown",
   "metadata": {
    "slideshow": {
     "slide_type": "slide"
    }
   },
   "source": []
  },
  {
   "cell_type": "markdown",
   "metadata": {
    "slideshow": {
     "slide_type": "slide"
    }
   },
   "source": [
    "# Dimensionality reduction using UMAP"
   ]
  },
  {
   "cell_type": "markdown",
   "metadata": {
    "slideshow": {
     "slide_type": "slide"
    }
   },
   "source": [
    "# Clustering using HDBSCAN"
   ]
  }
 ],
 "metadata": {
  "kernelspec": {
   "display_name": "Python 3",
   "language": "python",
   "name": "python3"
  },
  "language_info": {
   "codemirror_mode": {
    "name": "ipython",
    "version": 3
   },
   "file_extension": ".py",
   "mimetype": "text/x-python",
   "name": "python",
   "nbconvert_exporter": "python",
   "pygments_lexer": "ipython3",
   "version": "3.6.11"
  }
 },
 "nbformat": 4,
 "nbformat_minor": 4
}
